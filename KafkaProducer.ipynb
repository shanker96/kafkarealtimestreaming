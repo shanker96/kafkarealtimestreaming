{
 "cells": [
  {
   "cell_type": "code",
   "execution_count": null,
   "id": "e86c5803",
   "metadata": {},
   "outputs": [],
   "source": [
    "pip install kafka-python"
   ]
  },
  {
   "cell_type": "code",
   "execution_count": 1,
   "id": "d2829340",
   "metadata": {},
   "outputs": [],
   "source": [
    "import pandas as pd\n",
    "from kafka import KafkaProducer\n",
    "from time import sleep\n",
    "from json import dumps\n",
    "import json"
   ]
  },
  {
   "cell_type": "code",
   "execution_count": 2,
   "id": "d7f2953b",
   "metadata": {},
   "outputs": [],
   "source": [
    "producer = KafkaProducer(bootstrap_servers=['54.160.228.142:9092'], #change ip here\n",
    "                         value_serializer=lambda x:   # Used to serialize Python objects to a JSON formatted string.  \n",
    "                         dumps(x).encode('utf-8')) #UTF-8 is a variable-width character encoding capable of encoding all possible characters"
   ]
  },
  {
   "cell_type": "code",
   "execution_count": 3,
   "id": "ea0724f7",
   "metadata": {},
   "outputs": [
    {
     "data": {
      "text/plain": [
       "<kafka.producer.future.FutureRecordMetadata at 0x7fed38465e80>"
      ]
     },
     "execution_count": 3,
     "metadata": {},
     "output_type": "execute_result"
    }
   ],
   "source": [
    "producer.send('demo_test', value={'firstname':'shanker', 'lastname':'nagarajan'})"
   ]
  },
  {
   "cell_type": "code",
   "execution_count": 4,
   "id": "106812cc",
   "metadata": {},
   "outputs": [],
   "source": [
    "df = pd.read_csv(\"indexProcessed.csv\")"
   ]
  },
  {
   "cell_type": "code",
   "execution_count": 5,
   "id": "eaffd557",
   "metadata": {},
   "outputs": [
    {
     "data": {
      "text/html": [
       "<div>\n",
       "<style scoped>\n",
       "    .dataframe tbody tr th:only-of-type {\n",
       "        vertical-align: middle;\n",
       "    }\n",
       "\n",
       "    .dataframe tbody tr th {\n",
       "        vertical-align: top;\n",
       "    }\n",
       "\n",
       "    .dataframe thead th {\n",
       "        text-align: right;\n",
       "    }\n",
       "</style>\n",
       "<table border=\"1\" class=\"dataframe\">\n",
       "  <thead>\n",
       "    <tr style=\"text-align: right;\">\n",
       "      <th></th>\n",
       "      <th>Index</th>\n",
       "      <th>Date</th>\n",
       "      <th>Open</th>\n",
       "      <th>High</th>\n",
       "      <th>Low</th>\n",
       "      <th>Close</th>\n",
       "      <th>Adj Close</th>\n",
       "      <th>Volume</th>\n",
       "      <th>CloseUSD</th>\n",
       "    </tr>\n",
       "  </thead>\n",
       "  <tbody>\n",
       "    <tr>\n",
       "      <th>0</th>\n",
       "      <td>HSI</td>\n",
       "      <td>1986-12-31</td>\n",
       "      <td>2568.300049</td>\n",
       "      <td>2568.300049</td>\n",
       "      <td>2568.300049</td>\n",
       "      <td>2568.300049</td>\n",
       "      <td>2568.300049</td>\n",
       "      <td>0.0</td>\n",
       "      <td>333.879006</td>\n",
       "    </tr>\n",
       "    <tr>\n",
       "      <th>1</th>\n",
       "      <td>HSI</td>\n",
       "      <td>1987-01-02</td>\n",
       "      <td>2540.100098</td>\n",
       "      <td>2540.100098</td>\n",
       "      <td>2540.100098</td>\n",
       "      <td>2540.100098</td>\n",
       "      <td>2540.100098</td>\n",
       "      <td>0.0</td>\n",
       "      <td>330.213013</td>\n",
       "    </tr>\n",
       "    <tr>\n",
       "      <th>2</th>\n",
       "      <td>HSI</td>\n",
       "      <td>1987-01-05</td>\n",
       "      <td>2552.399902</td>\n",
       "      <td>2552.399902</td>\n",
       "      <td>2552.399902</td>\n",
       "      <td>2552.399902</td>\n",
       "      <td>2552.399902</td>\n",
       "      <td>0.0</td>\n",
       "      <td>331.811987</td>\n",
       "    </tr>\n",
       "    <tr>\n",
       "      <th>3</th>\n",
       "      <td>HSI</td>\n",
       "      <td>1987-01-06</td>\n",
       "      <td>2583.899902</td>\n",
       "      <td>2583.899902</td>\n",
       "      <td>2583.899902</td>\n",
       "      <td>2583.899902</td>\n",
       "      <td>2583.899902</td>\n",
       "      <td>0.0</td>\n",
       "      <td>335.906987</td>\n",
       "    </tr>\n",
       "    <tr>\n",
       "      <th>4</th>\n",
       "      <td>HSI</td>\n",
       "      <td>1987-01-07</td>\n",
       "      <td>2607.100098</td>\n",
       "      <td>2607.100098</td>\n",
       "      <td>2607.100098</td>\n",
       "      <td>2607.100098</td>\n",
       "      <td>2607.100098</td>\n",
       "      <td>0.0</td>\n",
       "      <td>338.923013</td>\n",
       "    </tr>\n",
       "  </tbody>\n",
       "</table>\n",
       "</div>"
      ],
      "text/plain": [
       "  Index        Date         Open         High          Low        Close  \\\n",
       "0   HSI  1986-12-31  2568.300049  2568.300049  2568.300049  2568.300049   \n",
       "1   HSI  1987-01-02  2540.100098  2540.100098  2540.100098  2540.100098   \n",
       "2   HSI  1987-01-05  2552.399902  2552.399902  2552.399902  2552.399902   \n",
       "3   HSI  1987-01-06  2583.899902  2583.899902  2583.899902  2583.899902   \n",
       "4   HSI  1987-01-07  2607.100098  2607.100098  2607.100098  2607.100098   \n",
       "\n",
       "     Adj Close  Volume    CloseUSD  \n",
       "0  2568.300049     0.0  333.879006  \n",
       "1  2540.100098     0.0  330.213013  \n",
       "2  2552.399902     0.0  331.811987  \n",
       "3  2583.899902     0.0  335.906987  \n",
       "4  2607.100098     0.0  338.923013  "
      ]
     },
     "execution_count": 5,
     "metadata": {},
     "output_type": "execute_result"
    }
   ],
   "source": [
    "df.head()"
   ]
  },
  {
   "cell_type": "code",
   "execution_count": 10,
   "id": "5a6298ac",
   "metadata": {},
   "outputs": [
    {
     "name": "stdout",
     "output_type": "stream",
     "text": [
      "{'Index': 'IXIC', 'Date': '2013-10-02', 'Open': 3793.110107, 'High': 3819.280029, 'Low': 3788.449951, 'Close': 3815.02002, 'Adj Close': 3815.02002, 'Volume': 1792980000.0, 'CloseUSD': 3815.02002}\n",
      "{'Index': 'GSPTSE', 'Date': '2016-09-02', 'Open': 14736.2002, 'High': 14841.40039, 'Low': 14736.2002, 'Close': 14795.7002, 'Adj Close': 14795.7002, 'Volume': 17403440000.0, 'CloseUSD': 12280.431165999998}\n",
      "{'Index': 'NYA', 'Date': '2009-12-17', 'Open': 7180.75, 'High': 7180.75, 'Low': 7056.759766, 'Close': 7063.75, 'Adj Close': 7063.75, 'Volume': 7615070000.0, 'CloseUSD': 7063.75}\n",
      "{'Index': 'GDAXI', 'Date': '2012-04-04', 'Open': 6940.609863, 'High': 6944.399902, 'Low': 6772.950195, 'Close': 6784.060059, 'Adj Close': 6784.060059, 'Volume': 192787600.0, 'CloseUSD': 8276.55327198}\n",
      "{'Index': 'IXIC', 'Date': '1992-01-22', 'Open': 608.469971, 'High': 620.690002, 'Low': 605.809998, 'Close': 620.679993, 'Adj Close': 620.679993, 'Volume': 251170000.0, 'CloseUSD': 620.679993}\n",
      "{'Index': '000001.SS', 'Date': '2016-03-22', 'Open': 3001.629883, 'High': 3019.101074, 'Low': 2988.426025, 'Close': 2999.363037, 'Adj Close': 2999.363037, 'Volume': 270400.0, 'CloseUSD': 479.89808592}\n",
      "{'Index': 'IXIC', 'Date': '1995-02-24', 'Open': 790.799988, 'High': 791.799988, 'Low': 787.119995, 'Close': 791.080017, 'Adj Close': 791.080017, 'Volume': 318540000.0, 'CloseUSD': 791.080017}\n",
      "{'Index': 'IXIC', 'Date': '1972-01-20', 'Open': 117.32, 'High': 117.32, 'Low': 117.32, 'Close': 117.32, 'Adj Close': 117.32, 'Volume': 0.0, 'CloseUSD': 117.32}\n",
      "{'Index': 'IXIC', 'Date': '2002-09-03', 'Open': 1302.670044, 'High': 1302.670044, 'Low': 1263.22998, 'Close': 1263.839966, 'Adj Close': 1263.839966, 'Volume': 1394260000.0, 'CloseUSD': 1263.839966}\n",
      "{'Index': 'IXIC', 'Date': '2020-03-10', 'Open': 8219.759766, 'High': 8347.400391, 'Low': 7930.430176, 'Close': 8344.25, 'Adj Close': 8344.25, 'Volume': 4431930000.0, 'CloseUSD': 8344.25}\n",
      "{'Index': 'GDAXI', 'Date': '1998-07-14', 'Open': 6026.080078, 'High': 6103.080078, 'Low': 6026.080078, 'Close': 6101.899902, 'Adj Close': 6101.899902, 'Volume': 0.0, 'CloseUSD': 7444.31788044}\n",
      "{'Index': 'N100', 'Date': '2012-02-07', 'Open': 634.409973, 'High': 635.359985, 'Low': 628.859985, 'Close': 633.599976, 'Adj Close': 633.599976, 'Volume': 213090200.0, 'CloseUSD': 772.9919707199999}\n",
      "{'Index': 'N225', 'Date': '2004-01-16', 'Open': 10719.19043, 'High': 10857.2002, 'Low': 10715.25, 'Close': 10857.2002, 'Adj Close': 10857.2002, 'Volume': 72500000.0, 'CloseUSD': 108.572002}\n",
      "{'Index': '000001.SS', 'Date': '1998-12-15', 'Open': 1193.637939, 'High': 1194.890015, 'Low': 1173.921021, 'Close': 1194.843994, 'Adj Close': 1194.843994, 'Volume': 0.0, 'CloseUSD': 191.17503904}\n",
      "{'Index': 'TWII', 'Date': '2011-05-19', 'Open': 8952.25, 'High': 9026.179688, 'Low': 8888.209961, 'Close': 8892.879883, 'Adj Close': 8892.84668, 'Volume': 2573200.0, 'CloseUSD': 355.71519532}\n",
      "{'Index': 'GDAXI', 'Date': '1995-03-16', 'Open': 2003.359985, 'High': 2016.150024, 'Low': 1992.170044, 'Close': 2016.150024, 'Adj Close': 2016.150024, 'Volume': 0.0, 'CloseUSD': 2459.70302928}\n",
      "{'Index': 'HSI', 'Date': '2020-07-02', 'Open': 24563.57031, 'High': 25124.18945, 'Low': 24563.57031, 'Close': 25124.18945, 'Adj Close': 25124.18945, 'Volume': 2746546400.0, 'CloseUSD': 3266.1446285}\n",
      "{'Index': 'N225', 'Date': '2017-06-07', 'Open': 19951.67969, 'High': 20023.24023, 'Low': 19908.07031, 'Close': 19984.61914, 'Adj Close': 19984.61914, 'Volume': 99200000.0, 'CloseUSD': 199.8461914}\n",
      "{'Index': 'GSPTSE', 'Date': '1983-11-01', 'Open': 2369.800049, 'High': 2374.800049, 'Low': 2360.300049, 'Close': 2374.800049, 'Adj Close': 2368.769287, 'Volume': 0.0, 'CloseUSD': 1971.08404067}\n",
      "{'Index': 'N225', 'Date': '1975-01-30', 'Open': 3949.110107, 'High': 3949.110107, 'Low': 3949.110107, 'Close': 3949.110107, 'Adj Close': 3949.110107, 'Volume': 0.0, 'CloseUSD': 39.49110107}\n",
      "{'Index': 'GDAXI', 'Date': '2009-10-20', 'Open': 5856.129883, 'High': 5888.209961, 'Low': 5801.439941, 'Close': 5811.77002, 'Adj Close': 5811.77002, 'Volume': 111809400.0, 'CloseUSD': 7090.3594244}\n",
      "{'Index': 'SSMI', 'Date': '2004-01-23', 'Open': 5722.799805, 'High': 5764.399902, 'Low': 5718.5, 'Close': 5762.700195, 'Adj Close': 5762.700195, 'Volume': 43988800.0, 'CloseUSD': 6396.597216450001}\n",
      "{'Index': 'IXIC', 'Date': '2020-03-12', 'Open': 7398.580078, 'High': 7712.330078, 'Low': 7194.669922, 'Close': 7201.799805, 'Adj Close': 7201.799805, 'Volume': 5066530000.0, 'CloseUSD': 7201.799805}\n",
      "{'Index': 'GDAXI', 'Date': '1988-02-22', 'Open': 1059.47998, 'High': 1059.47998, 'Low': 1059.47998, 'Close': 1059.47998, 'Adj Close': 1059.47998, 'Volume': 0.0, 'CloseUSD': 1292.5655756}\n",
      "{'Index': 'IXIC', 'Date': '1979-03-19', 'Open': 129.139999, 'High': 129.139999, 'Low': 129.139999, 'Close': 129.139999, 'Adj Close': 129.139999, 'Volume': 0.0, 'CloseUSD': 129.139999}\n",
      "{'Index': 'NYA', 'Date': '1998-08-24', 'Open': 5749.149902, 'High': 5749.149902, 'Low': 5749.149902, 'Close': 5749.149902, 'Adj Close': 5749.149902, 'Volume': 0.0, 'CloseUSD': 5749.149902}\n",
      "{'Index': 'GDAXI', 'Date': '1990-07-18', 'Open': 1962.069946, 'High': 1962.069946, 'Low': 1962.069946, 'Close': 1962.069946, 'Adj Close': 1962.069946, 'Volume': 0.0, 'CloseUSD': 2393.72533412}\n",
      "{'Index': 'IXIC', 'Date': '2018-03-16', 'Open': 7504.370117, 'High': 7514.209961, 'Low': 7473.680176, 'Close': 7481.990234, 'Adj Close': 7481.990234, 'Volume': 3046990000.0, 'CloseUSD': 7481.990234}\n",
      "{'Index': 'IXIC', 'Date': '1974-09-09', 'Open': 59.369999, 'High': 59.369999, 'Low': 59.369999, 'Close': 59.369999, 'Adj Close': 59.369999, 'Volume': 0.0, 'CloseUSD': 59.369999}\n",
      "{'Index': 'GDAXI', 'Date': '2014-02-07', 'Open': 9275.379883, 'High': 9323.240234, 'Low': 9223.209961, 'Close': 9301.919922, 'Adj Close': 9301.919922, 'Volume': 89003400.0, 'CloseUSD': 11348.342304839998}\n",
      "{'Index': 'GSPTSE', 'Date': '1993-10-22', 'Open': 4155.200195, 'High': 4168.299805, 'Low': 4152.5, 'Close': 4153.799805, 'Adj Close': 4153.799805, 'Volume': 55540000.0, 'CloseUSD': 3447.6538381499995}\n",
      "{'Index': '000001.SS', 'Date': '2017-10-09', 'Open': 3403.246094, 'High': 3410.169922, 'Low': 3366.965088, 'Close': 3374.37793, 'Adj Close': 3374.37793, 'Volume': 191700.0, 'CloseUSD': 539.9004688}\n",
      "{'Index': 'N225', 'Date': '1965-11-24', 'Open': 1354.420044, 'High': 1354.420044, 'Low': 1354.420044, 'Close': 1354.420044, 'Adj Close': 1354.420044, 'Volume': 0.0, 'CloseUSD': 13.54420044}\n",
      "{'Index': 'GSPTSE', 'Date': '1996-06-13', 'Open': 5094.600098, 'High': 5094.600098, 'Low': 5065.399902, 'Close': 5069.600098, 'Adj Close': 5069.600098, 'Volume': 82120000.0, 'CloseUSD': 4207.768081339999}\n",
      "{'Index': 'N100', 'Date': '2014-01-30', 'Open': 786.780029, 'High': 792.369995, 'Low': 780.700012, 'Close': 789.179993, 'Adj Close': 789.179993, 'Volume': 244801300.0, 'CloseUSD': 962.79959146}\n",
      "{'Index': '000001.SS', 'Date': '2017-04-06', 'Open': 3272.193115, 'High': 3286.674072, 'Low': 3265.764893, 'Close': 3281.004883, 'Adj Close': 3281.004883, 'Volume': 245300.0, 'CloseUSD': 524.96078128}\n",
      "{'Index': 'TWII', 'Date': '2020-09-16', 'Open': 12989.80957, 'High': 13021.67969, 'Low': 12948.71973, 'Close': 12976.75977, 'Adj Close': 12976.75977, 'Volume': 3609400.0, 'CloseUSD': 519.0703908}\n",
      "{'Index': 'GDAXI', 'Date': '1999-02-12', 'Open': 4961.819824, 'High': 4995.529785, 'Low': 4850.609863, 'Close': 4896.740234, 'Adj Close': 4896.740234, 'Volume': 0.0, 'CloseUSD': 5974.023085479999}\n",
      "{'Index': 'N225', 'Date': '2007-12-05', 'Open': 15418.9502, 'High': 15621.54004, 'Low': 15365.38965, 'Close': 15608.87988, 'Adj Close': 15608.87988, 'Volume': 136900000.0, 'CloseUSD': 156.0887988}\n"
     ]
    },
    {
     "ename": "KeyboardInterrupt",
     "evalue": "",
     "output_type": "error",
     "traceback": [
      "\u001b[0;31m---------------------------------------------------------------------------\u001b[0m",
      "\u001b[0;31mKeyboardInterrupt\u001b[0m                         Traceback (most recent call last)",
      "\u001b[0;32m/var/folders/x0/4lvx6zcs5tz95r4l4lm81zz00000gn/T/ipykernel_41888/2568909191.py\u001b[0m in \u001b[0;36m<module>\u001b[0;34m\u001b[0m\n\u001b[1;32m      3\u001b[0m     \u001b[0mprint\u001b[0m\u001b[0;34m(\u001b[0m\u001b[0mdict_stock\u001b[0m\u001b[0;34m)\u001b[0m\u001b[0;34m\u001b[0m\u001b[0;34m\u001b[0m\u001b[0m\n\u001b[1;32m      4\u001b[0m     \u001b[0mproducer\u001b[0m\u001b[0;34m.\u001b[0m\u001b[0msend\u001b[0m\u001b[0;34m(\u001b[0m\u001b[0;34m'demo_test'\u001b[0m\u001b[0;34m,\u001b[0m \u001b[0mvalue\u001b[0m\u001b[0;34m=\u001b[0m\u001b[0mdict_stock\u001b[0m\u001b[0;34m)\u001b[0m\u001b[0;34m\u001b[0m\u001b[0;34m\u001b[0m\u001b[0m\n\u001b[0;32m----> 5\u001b[0;31m     \u001b[0msleep\u001b[0m\u001b[0;34m(\u001b[0m\u001b[0;36m1\u001b[0m\u001b[0;34m)\u001b[0m\u001b[0;34m\u001b[0m\u001b[0;34m\u001b[0m\u001b[0m\n\u001b[0m\u001b[1;32m      6\u001b[0m \u001b[0;34m\u001b[0m\u001b[0m\n\u001b[1;32m      7\u001b[0m     '''\n",
      "\u001b[0;31mKeyboardInterrupt\u001b[0m: "
     ]
    }
   ],
   "source": [
    "while True:\n",
    "    dict_stock = df.sample(1).to_dict(orient=\"records\")[0]\n",
    "    print(dict_stock)\n",
    "    producer.send('demo_test', value=dict_stock)\n",
    "    sleep(1)\n",
    "\n",
    "    '''\n",
    "    .to_dict(orient=\"records\"): This converts the sampled row into a dictionary. \n",
    "    The argument orient=\"records\" specifies that the resulting dictionary should be in the \"records\" format. \n",
    "    In this format, each dictionary represents a single record (i.e., a row in the DataFrame).\n",
    "    '''"
   ]
  },
  {
   "cell_type": "code",
   "execution_count": 8,
   "id": "82bafd33",
   "metadata": {},
   "outputs": [],
   "source": [
    "producer.flush() #clear data from kafka server"
   ]
  },
  {
   "cell_type": "code",
   "execution_count": null,
   "id": "01a6d1c2",
   "metadata": {},
   "outputs": [],
   "source": []
  }
 ],
 "metadata": {
  "kernelspec": {
   "display_name": "Python 3 (ipykernel)",
   "language": "python",
   "name": "python3"
  },
  "language_info": {
   "codemirror_mode": {
    "name": "ipython",
    "version": 3
   },
   "file_extension": ".py",
   "mimetype": "text/x-python",
   "name": "python",
   "nbconvert_exporter": "python",
   "pygments_lexer": "ipython3",
   "version": "3.9.13"
  }
 },
 "nbformat": 4,
 "nbformat_minor": 5
}
