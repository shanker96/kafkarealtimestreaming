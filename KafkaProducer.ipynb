{
 "cells": [
  {
   "cell_type": "code",
   "execution_count": null,
   "id": "e86c5803",
   "metadata": {},
   "outputs": [],
   "source": [
    "pip install kafka-python"
   ]
  },
  {
   "cell_type": "code",
   "execution_count": 1,
   "id": "d2829340",
   "metadata": {},
   "outputs": [],
   "source": [
    "import pandas as pd\n",
    "from kafka import KafkaProducer\n",
    "from time import sleep\n",
    "from json import dumps\n",
    "import json"
   ]
  },
  {
   "cell_type": "code",
   "execution_count": null,
   "id": "d7f2953b",
   "metadata": {},
   "outputs": [],
   "source": [
    "producer = KafkaProducer(bootstrap_servers=['54.160.228.142:9092'], #change ip here\n",
    "                         value_serializer=lambda x:   # Used to serialize Python objects to a JSON formatted string.  \n",
    "                         dumps(x).encode('utf-8')) #UTF-8 is a variable-width character encoding capable of encoding all possible characters"
   ]
  },
  {
   "cell_type": "code",
   "execution_count": null,
   "id": "ea0724f7",
   "metadata": {},
   "outputs": [],
   "source": [
    "producer.send('demo_test', value={'firstname':'shanker', 'lastname':'nagarajan'})"
   ]
  },
  {
   "cell_type": "code",
   "execution_count": null,
   "id": "106812cc",
   "metadata": {},
   "outputs": [],
   "source": [
    "df = pd.read_csv(\"indexProcessed.csv\")"
   ]
  },
  {
   "cell_type": "code",
   "execution_count": null,
   "id": "eaffd557",
   "metadata": {},
   "outputs": [],
   "source": [
    "df.head()"
   ]
  },
  {
   "cell_type": "code",
   "execution_count": null,
   "id": "5a6298ac",
   "metadata": {},
   "outputs": [],
   "source": [
    "while True:\n",
    "    dict_stock = df.sample(1).to_dict(orient=\"records\")[0]\n",
    "    print(dict_stock)\n",
    "    producer.send('demo_test', value=dict_stock)\n",
    "    sleep(1)\n",
    "\n",
    "    '''\n",
    "    .to_dict(orient=\"records\"): This converts the sampled row into a dictionary. \n",
    "    The argument orient=\"records\" specifies that the resulting dictionary should be in the \"records\" format. \n",
    "    In this format, each dictionary represents a single record (i.e., a row in the DataFrame).\n",
    "    '''"
   ]
  },
  {
   "cell_type": "code",
   "execution_count": null,
   "id": "82bafd33",
   "metadata": {},
   "outputs": [],
   "source": [
    "producer.flush() #clear data from kafka server"
   ]
  },
  {
   "cell_type": "code",
   "execution_count": null,
   "id": "01a6d1c2",
   "metadata": {},
   "outputs": [],
   "source": []
  }
 ],
 "metadata": {
  "kernelspec": {
   "display_name": "Python 3 (ipykernel)",
   "language": "python",
   "name": "python3"
  },
  "language_info": {
   "codemirror_mode": {
    "name": "ipython",
    "version": 3
   },
   "file_extension": ".py",
   "mimetype": "text/x-python",
   "name": "python",
   "nbconvert_exporter": "python",
   "pygments_lexer": "ipython3",
   "version": "3.9.13"
  }
 },
 "nbformat": 4,
 "nbformat_minor": 5
}
