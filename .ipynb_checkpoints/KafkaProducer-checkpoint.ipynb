{
 "cells": [
  {
   "cell_type": "code",
   "execution_count": 1,
   "id": "e86c5803",
   "metadata": {},
   "outputs": [
    {
     "name": "stdout",
     "output_type": "stream",
     "text": [
      "Collecting kafka-python\n",
      "  Downloading kafka_python-2.0.2-py2.py3-none-any.whl (246 kB)\n",
      "\u001b[2K     \u001b[90m━━━━━━━━━━━━━━━━━━━━━━━━━━━━━━━━━━━━━━━\u001b[0m \u001b[32m246.5/246.5 kB\u001b[0m \u001b[31m2.2 MB/s\u001b[0m eta \u001b[36m0:00:00\u001b[0ma \u001b[36m0:00:01\u001b[0m\n",
      "\u001b[?25hInstalling collected packages: kafka-python\n",
      "Successfully installed kafka-python-2.0.2\n",
      "Note: you may need to restart the kernel to use updated packages.\n"
     ]
    }
   ],
   "source": [
    "pip install kafka-python"
   ]
  },
  {
   "cell_type": "code",
   "execution_count": 1,
   "id": "d2829340",
   "metadata": {},
   "outputs": [],
   "source": [
    "import pandas as pd\n",
    "from kafka import KafkaProducer\n",
    "from time import sleep\n",
    "from json import dumps\n",
    "import json"
   ]
  },
  {
   "cell_type": "code",
   "execution_count": 5,
   "id": "d7f2953b",
   "metadata": {},
   "outputs": [],
   "source": [
    "producer = KafkaProducer(bootstrap_servers=['54.160.228.142:9092'], #change ip here\n",
    "                         value_serializer=lambda x:   # Used to serialize Python objects to a JSON formatted string.  \n",
    "                         dumps(x).encode('utf-8'))"
   ]
  },
  {
   "cell_type": "code",
   "execution_count": 13,
   "id": "ea0724f7",
   "metadata": {},
   "outputs": [
    {
     "data": {
      "text/plain": [
       "<kafka.producer.future.FutureRecordMetadata at 0x7fa7ea6de460>"
      ]
     },
     "execution_count": 13,
     "metadata": {},
     "output_type": "execute_result"
    }
   ],
   "source": [
    "producer.send('demo_test', value={'firstname':'shanker', 'lastname':'nagarajan'})"
   ]
  },
  {
   "cell_type": "code",
   "execution_count": 14,
   "id": "106812cc",
   "metadata": {},
   "outputs": [],
   "source": [
    "df = pd.read_csv(\"indexProcessed.csv\")"
   ]
  },
  {
   "cell_type": "code",
   "execution_count": 29,
   "id": "eaffd557",
   "metadata": {},
   "outputs": [
    {
     "name": "stdout",
     "output_type": "stream",
     "text": [
      "{'Index': 'GDAXI', 'Date': '1997-04-18', 'Open': 3356.719971, 'High': 3369.370117, 'Low': 3339.280029, 'Close': 3361.199951, 'Adj Close': 3361.199951, 'Volume': 0.0, 'CloseUSD': 4100.66394022}\n"
     ]
    }
   ],
   "source": [
    "df.head()\n",
    "dict_stock = df.sample(1).to_dict(orient=\"records\")[0]\n",
    "print(dict_stock)"
   ]
  },
  {
   "cell_type": "code",
   "execution_count": 26,
   "id": "5a6298ac",
   "metadata": {},
   "outputs": [
    {
     "name": "stdout",
     "output_type": "stream",
     "text": [
      "{'Index': 'GDAXI', 'Date': '2017-10-16', 'Open': 13017.17969, 'High': 13026.4502, 'Low': 13000.37988, 'Close': 13003.7002, 'Adj Close': 13003.7002, 'Volume': 54658400.0, 'CloseUSD': 15864.514243999998}\n",
      "{'Index': '399001.SZ', 'Date': '2013-08-21', 'Open': 8264.719727, 'High': 8268.650391, 'Low': 8174.220215, 'Close': 8236.089844, 'Adj Close': 8235.998047, 'Volume': 132000.0, 'CloseUSD': 1317.77437504}\n",
      "{'Index': 'HSI', 'Date': '2005-07-22', 'Open': 14744.51953, 'High': 14800.30957, 'Low': 14655.44043, 'Close': 14786.45996, 'Adj Close': 14786.45996, 'Volume': 593108000.0, 'CloseUSD': 1922.2397948}\n",
      "{'Index': 'N225', 'Date': '1977-08-18', 'Open': 5216.02002, 'High': 5216.02002, 'Low': 5216.02002, 'Close': 5216.02002, 'Adj Close': 5216.02002, 'Volume': 0.0, 'CloseUSD': 52.1602002}\n",
      "{'Index': 'N225', 'Date': '1991-08-05', 'Open': 24040.5293, 'High': 24084.31055, 'Low': 23830.18945, 'Close': 23833.25, 'Adj Close': 23833.25, 'Volume': 0.0, 'CloseUSD': 238.3325}\n",
      "{'Index': 'IXIC', 'Date': '1996-05-14', 'Open': 1226.069946, 'High': 1234.959961, 'Low': 1226.069946, 'Close': 1234.48999, 'Adj Close': 1234.48999, 'Volume': 690200000.0, 'CloseUSD': 1234.48999}\n"
     ]
    },
    {
     "ename": "KeyboardInterrupt",
     "evalue": "",
     "output_type": "error",
     "traceback": [
      "\u001b[0;31m---------------------------------------------------------------------------\u001b[0m",
      "\u001b[0;31mKeyboardInterrupt\u001b[0m                         Traceback (most recent call last)",
      "\u001b[0;32m/var/folders/x0/4lvx6zcs5tz95r4l4lm81zz00000gn/T/ipykernel_32613/457893889.py\u001b[0m in \u001b[0;36m<module>\u001b[0;34m\u001b[0m\n\u001b[1;32m      3\u001b[0m     \u001b[0mprint\u001b[0m\u001b[0;34m(\u001b[0m\u001b[0mdict_stock\u001b[0m\u001b[0;34m)\u001b[0m\u001b[0;34m\u001b[0m\u001b[0;34m\u001b[0m\u001b[0m\n\u001b[1;32m      4\u001b[0m     \u001b[0mproducer\u001b[0m\u001b[0;34m.\u001b[0m\u001b[0msend\u001b[0m\u001b[0;34m(\u001b[0m\u001b[0;34m'demo_test'\u001b[0m\u001b[0;34m,\u001b[0m \u001b[0mvalue\u001b[0m\u001b[0;34m=\u001b[0m\u001b[0mdict_stock\u001b[0m\u001b[0;34m)\u001b[0m\u001b[0;34m\u001b[0m\u001b[0;34m\u001b[0m\u001b[0m\n\u001b[0;32m----> 5\u001b[0;31m     \u001b[0msleep\u001b[0m\u001b[0;34m(\u001b[0m\u001b[0;36m1\u001b[0m\u001b[0;34m)\u001b[0m\u001b[0;34m\u001b[0m\u001b[0;34m\u001b[0m\u001b[0m\n\u001b[0m",
      "\u001b[0;31mKeyboardInterrupt\u001b[0m: "
     ]
    }
   ],
   "source": [
    "while True:\n",
    "    dict_stock = df.sample(1).to_dict(orient=\"records\")[0]\n",
    "    print(dict_stock)\n",
    "    producer.send('demo_test', value=dict_stock)\n",
    "    sleep(1)\n",
    "\n",
    "    '''\n",
    "    .to_dict(orient=\"records\"): This converts the sampled row into a dictionary. \n",
    "    The argument orient=\"records\" specifies that the resulting dictionary should be in the \"records\" format. \n",
    "    In this format, each dictionary represents a single record (i.e., a row in the DataFrame).\n",
    "    '''"
   ]
  },
  {
   "cell_type": "code",
   "execution_count": 19,
   "id": "82bafd33",
   "metadata": {},
   "outputs": [],
   "source": [
    "producer.flush() #clear data from kafka server"
   ]
  }
 ],
 "metadata": {
  "kernelspec": {
   "display_name": "Python 3 (ipykernel)",
   "language": "python",
   "name": "python3"
  },
  "language_info": {
   "codemirror_mode": {
    "name": "ipython",
    "version": 3
   },
   "file_extension": ".py",
   "mimetype": "text/x-python",
   "name": "python",
   "nbconvert_exporter": "python",
   "pygments_lexer": "ipython3",
   "version": "3.9.13"
  }
 },
 "nbformat": 4,
 "nbformat_minor": 5
}
